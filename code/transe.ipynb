{
 "cells": [
  {
   "cell_type": "code",
   "execution_count": 1,
   "id": "094802a2",
   "metadata": {
    "execution": {
     "iopub.execute_input": "2023-04-15T17:47:37.058537Z",
     "iopub.status.busy": "2023-04-15T17:47:37.057982Z",
     "iopub.status.idle": "2023-04-15T17:47:50.144808Z",
     "shell.execute_reply": "2023-04-15T17:47:50.143315Z"
    },
    "papermill": {
     "duration": 13.097142,
     "end_time": "2023-04-15T17:47:50.148219",
     "exception": false,
     "start_time": "2023-04-15T17:47:37.051077",
     "status": "completed"
    },
    "tags": []
   },
   "outputs": [
    {
     "name": "stdout",
     "output_type": "stream",
     "text": [
      "Collecting rdflib\r\n",
      "  Downloading rdflib-6.3.2-py3-none-any.whl (528 kB)\r\n",
      "\u001b[2K     \u001b[90m━━━━━━━━━━━━━━━━━━━━━━━━━━━━━━━━━━━━━━\u001b[0m \u001b[32m528.1/528.1 kB\u001b[0m \u001b[31m12.3 MB/s\u001b[0m eta \u001b[36m0:00:00\u001b[0m\r\n",
      "\u001b[?25hCollecting isodate<0.7.0,>=0.6.0\r\n",
      "  Downloading isodate-0.6.1-py2.py3-none-any.whl (41 kB)\r\n",
      "\u001b[2K     \u001b[90m━━━━━━━━━━━━━━━━━━━━━━━━━━━━━━━━━━━━━━━━\u001b[0m \u001b[32m41.7/41.7 kB\u001b[0m \u001b[31m3.3 MB/s\u001b[0m eta \u001b[36m0:00:00\u001b[0m\r\n",
      "\u001b[?25hRequirement already satisfied: importlib-metadata<5.0.0,>=4.0.0 in /opt/conda/lib/python3.7/site-packages (from rdflib) (4.11.4)\r\n",
      "Requirement already satisfied: pyparsing<4,>=2.1.0 in /opt/conda/lib/python3.7/site-packages (from rdflib) (3.0.9)\r\n",
      "Requirement already satisfied: zipp>=0.5 in /opt/conda/lib/python3.7/site-packages (from importlib-metadata<5.0.0,>=4.0.0->rdflib) (3.11.0)\r\n",
      "Requirement already satisfied: typing-extensions>=3.6.4 in /opt/conda/lib/python3.7/site-packages (from importlib-metadata<5.0.0,>=4.0.0->rdflib) (4.4.0)\r\n",
      "Requirement already satisfied: six in /opt/conda/lib/python3.7/site-packages (from isodate<0.7.0,>=0.6.0->rdflib) (1.16.0)\r\n",
      "Installing collected packages: isodate, rdflib\r\n",
      "Successfully installed isodate-0.6.1 rdflib-6.3.2\r\n",
      "\u001b[33mWARNING: Running pip as the 'root' user can result in broken permissions and conflicting behaviour with the system package manager. It is recommended to use a virtual environment instead: https://pip.pypa.io/warnings/venv\u001b[0m\u001b[33m\r\n",
      "\u001b[0m"
     ]
    }
   ],
   "source": [
    "!pip install rdflib"
   ]
  },
  {
   "cell_type": "code",
   "execution_count": 2,
   "id": "69619f16",
   "metadata": {
    "execution": {
     "iopub.execute_input": "2023-04-15T17:47:50.160463Z",
     "iopub.status.busy": "2023-04-15T17:47:50.159548Z",
     "iopub.status.idle": "2023-04-15T17:47:50.658990Z",
     "shell.execute_reply": "2023-04-15T17:47:50.658062Z"
    },
    "papermill": {
     "duration": 0.508774,
     "end_time": "2023-04-15T17:47:50.661648",
     "exception": false,
     "start_time": "2023-04-15T17:47:50.152874",
     "status": "completed"
    },
    "tags": []
   },
   "outputs": [],
   "source": [
    "import rdflib\n",
    "import numpy as np\n",
    "import random\n",
    "\n",
    "\n",
    "class TriplesDataset:\n",
    "    def __init__(self, url_list: str) -> None:\n",
    "        datapoints = []\n",
    "        labels = []\n",
    "        entities = set()\n",
    "        relations = set()\n",
    "        \n",
    "        for url in url_list:\n",
    "            graph_variable = rdflib.Graph()\n",
    "            resultGraph = graph_variable.parse(url)\n",
    "            for subject_item, predicate, object_item in resultGraph.triples((None, None, None)):\n",
    "                if type(object_item) != rdflib.term.URIRef:\n",
    "                    continue\n",
    "                \n",
    "                # add them to entities and relations\n",
    "                entities.add(str(subject_item))\n",
    "                entities.add(str(object_item))\n",
    "                relations.add(str(predicate))\n",
    "                \n",
    "                # add them to datapoints\n",
    "                datapoints.append(\n",
    "                    tuple([str(subject_item), str(predicate), str(object_item)])\n",
    "                )\n",
    "                labels.append(predicate)\n",
    "        \n",
    "        self.entities = list(entities)\n",
    "        self.relations = list(relations)\n",
    "        self.datapoints = datapoints\n",
    "        \n",
    "    def construct_hash(self):\n",
    "        entity_hash = dict()\n",
    "        for index, entity in enumerate(self.entities):\n",
    "            entity_hash[entity] = index\n",
    "        \n",
    "        relation_hash = dict()\n",
    "        for index, relation in enumerate(self.relations):\n",
    "            relation_hash[relation] = index\n",
    "        return entity_hash, relation_hash"
   ]
  },
  {
   "cell_type": "code",
   "execution_count": 3,
   "id": "976fd352",
   "metadata": {
    "execution": {
     "iopub.execute_input": "2023-04-15T17:47:50.672777Z",
     "iopub.status.busy": "2023-04-15T17:47:50.672364Z",
     "iopub.status.idle": "2023-04-15T17:48:58.298643Z",
     "shell.execute_reply": "2023-04-15T17:48:58.297423Z"
    },
    "papermill": {
     "duration": 67.635028,
     "end_time": "2023-04-15T17:48:58.301550",
     "exception": false,
     "start_time": "2023-04-15T17:47:50.666522",
     "status": "completed"
    },
    "tags": []
   },
   "outputs": [],
   "source": [
    "data_file_path = [\n",
    "    \"/kaggle/input/bgs-dataset/625KGeologyMap_all.nt\",\n",
    "    \"/kaggle/input/bgs-dataset/dataholdings.nt\",\n",
    "    \"/kaggle/input/bgs-dataset/earth-material-class.nt\",\n",
    "    \"/kaggle/input/bgs-dataset/geochronology.nt\",\n",
    "    \"/kaggle/input/bgs-dataset/lexicon-named-rock-unit.nt\"\n",
    "]\n",
    "dataset = TriplesDataset(data_file_path)"
   ]
  },
  {
   "cell_type": "code",
   "execution_count": 4,
   "id": "abd89350",
   "metadata": {
    "execution": {
     "iopub.execute_input": "2023-04-15T17:48:58.312600Z",
     "iopub.status.busy": "2023-04-15T17:48:58.312176Z",
     "iopub.status.idle": "2023-04-15T17:48:58.324185Z",
     "shell.execute_reply": "2023-04-15T17:48:58.323044Z"
    },
    "papermill": {
     "duration": 0.0204,
     "end_time": "2023-04-15T17:48:58.326581",
     "exception": false,
     "start_time": "2023-04-15T17:48:58.306181",
     "status": "completed"
    },
    "tags": []
   },
   "outputs": [],
   "source": [
    " def generate_negative_samples(dataset, positive_samples):\n",
    "    entities = set(dataset.entities)\n",
    "    entities_count = len(entities)\n",
    "    links_set = set(dataset.datapoints)\n",
    "    negative_samples = set()\n",
    "    \n",
    "    heads, predicates, tails = positive_samples\n",
    "    for triple in zip(heads, predicates, tails):\n",
    "        subject_item, predicate, object_item = triple\n",
    "        choice = random.sample([0, 1], 1)[0]\n",
    "        if choice == 0:\n",
    "            while True:\n",
    "                index = random.sample(range(entities_count), 1)[0]\n",
    "                corrupted_triple = tuple([dataset.entities[index], predicate, object_item])\n",
    "                if corrupted_triple not in links_set and corrupted_triple not in negative_samples:\n",
    "                    negative_samples.add(corrupted_triple)\n",
    "                    break\n",
    "        else:\n",
    "            while True:\n",
    "                index = random.sample(range(entities_count), 1)[0]\n",
    "                corrupted_triple = tuple([subject_item, predicate, dataset.entities[index]])\n",
    "                if corrupted_triple not in links_set and corrupted_triple not in negative_samples:\n",
    "                    negative_samples.add(corrupted_triple)\n",
    "                    break\n",
    "    return list(negative_samples)"
   ]
  },
  {
   "cell_type": "code",
   "execution_count": 5,
   "id": "2f87ad8e",
   "metadata": {
    "_cell_guid": "b1076dfc-b9ad-4769-8c92-a6c4dae69d19",
    "_uuid": "8f2839f25d086af736a60e9eeb907d3b93b6e0e5",
    "execution": {
     "iopub.execute_input": "2023-04-15T17:48:58.337689Z",
     "iopub.status.busy": "2023-04-15T17:48:58.337308Z",
     "iopub.status.idle": "2023-04-15T17:49:00.836855Z",
     "shell.execute_reply": "2023-04-15T17:49:00.835487Z"
    },
    "papermill": {
     "duration": 2.508987,
     "end_time": "2023-04-15T17:49:00.840080",
     "exception": false,
     "start_time": "2023-04-15T17:48:58.331093",
     "status": "completed"
    },
    "tags": []
   },
   "outputs": [],
   "source": [
    "import torch\n",
    "import torch.nn as nn\n",
    "\n",
    "class TransE(nn.Module):\n",
    "    def __init__(self, num_entities, num_relations, embedding_dim, hashing, margin):\n",
    "        super(TransE, self).__init__()\n",
    "        self.num_entities = num_entities\n",
    "        self.num_relations = num_relations\n",
    "        self.embedding_dim = embedding_dim\n",
    "        self.entity_hash = hashing[0]\n",
    "        self.relation_hash = hashing[1]\n",
    "        self.margin = margin\n",
    "        \n",
    "        # define entity and relation embeddings\n",
    "        self.entity_embeddings = nn.Embedding(num_entities, embedding_dim)\n",
    "        self.relation_embeddings = nn.Embedding(num_relations, embedding_dim)\n",
    "        \n",
    "        # initialize embeddings\n",
    "        nn.init.xavier_uniform_(self.entity_embeddings.weight.data)\n",
    "        nn.init.xavier_uniform_(self.relation_embeddings.weight.data)\n",
    "    \n",
    "    def _calculate_loss(self, triples):\n",
    "        score = []\n",
    "        for triple in triples:\n",
    "            head, relation, tail = triple\n",
    "            head_embedding = self.entity_embeddings(torch.tensor(self.entity_hash[head]))\n",
    "            relation_embedding = self.relation_embeddings(torch.tensor(self.relation_hash[relation]))\n",
    "            tail_embedding = self.entity_embeddings(torch.tensor(self.entity_hash[tail]))\n",
    "            distance = torch.linalg.norm(head_embedding + relation_embedding - tail_embedding)\n",
    "            score.append(distance)\n",
    "        return torch.tensor(score)\n",
    "    \n",
    "    def forward(self, positive_triples, negative_triples):\n",
    "        heads, predicates, tails = positive_triples\n",
    "        positive_score = self._calculate_loss(zip(heads, predicates, tails))\n",
    "        negative_score = self._calculate_loss(negative_triples)\n",
    "#         positive_head = self.entity_embeddings(positive_triplets[:, 0])\n",
    "#         positive_relation = self.relation_embeddings(positive_triplets[:, 1])\n",
    "#         positive_tail = self.entity_embeddings(positive_triplets[:, 2])\n",
    "#         positive_score = torch.norm(positive_head + positive_relation - positive_tail, dim=1, p=2)\n",
    "        \n",
    "#         negative_head = self.entity_embeddings(negative_triplets[:, 0])\n",
    "#         negative_relation = self.relation_embeddings(negative_triplets[:, 1])\n",
    "#         negative_tail = self.entity_embeddings(negative_triplets[:, 2])\n",
    "#         negative_score = torch.norm(negative_head + negative_relation - negative_tail, dim=1, p=2)\n",
    "        \n",
    "        # calculate loss\n",
    "        loss = torch.mean(torch.max(\n",
    "            torch.zeros_like(negative_score), \n",
    "            self.margin + positive_score - negative_score\n",
    "        ))\n",
    "        loss.requires_grad = True\n",
    "        return loss\n"
   ]
  },
  {
   "cell_type": "code",
   "execution_count": 6,
   "id": "85b900ec",
   "metadata": {
    "execution": {
     "iopub.execute_input": "2023-04-15T17:49:00.851453Z",
     "iopub.status.busy": "2023-04-15T17:49:00.850744Z",
     "iopub.status.idle": "2023-04-15T17:49:00.858971Z",
     "shell.execute_reply": "2023-04-15T17:49:00.857640Z"
    },
    "papermill": {
     "duration": 0.016791,
     "end_time": "2023-04-15T17:49:00.861517",
     "exception": false,
     "start_time": "2023-04-15T17:49:00.844726",
     "status": "completed"
    },
    "tags": []
   },
   "outputs": [],
   "source": [
    "def train(epochs, model, dataset, loader, optimizer, device):\n",
    "    criterion = nn.BCELoss()\n",
    "    optimizer = optim.Adam(model.parameters())\n",
    "    for epoch in range(epochs):\n",
    "        running_loss = 0.0\n",
    "        for positive_triples in loader:\n",
    "            negative_triples = generate_negative_samples(dataset, positive_triples)\n",
    "            optimizer.zero_grad()\n",
    "            loss = model(positive_triples, negative_triples)\n",
    "            running_loss += loss.item()\n",
    "            loss.backward()\n",
    "            optimizer.step()\n",
    "\n",
    "        epoch_loss = running_loss / len(loader)\n",
    "        print(f\"Epoch {epoch+1}/{epochs}, Loss: {epoch_loss:.4f}\")"
   ]
  },
  {
   "cell_type": "code",
   "execution_count": 7,
   "id": "1b6f10d3",
   "metadata": {
    "execution": {
     "iopub.execute_input": "2023-04-15T17:49:00.872269Z",
     "iopub.status.busy": "2023-04-15T17:49:00.871840Z",
     "iopub.status.idle": "2023-04-15T17:49:00.878374Z",
     "shell.execute_reply": "2023-04-15T17:49:00.876681Z"
    },
    "papermill": {
     "duration": 0.015541,
     "end_time": "2023-04-15T17:49:00.881646",
     "exception": false,
     "start_time": "2023-04-15T17:49:00.866105",
     "status": "completed"
    },
    "tags": []
   },
   "outputs": [],
   "source": [
    "import numpy as np\n",
    "from torch.utils.data import DataLoader\n",
    "\n",
    "positive_samples = dataset.datapoints\n",
    "loader = DataLoader(positive_samples, batch_size=4096, shuffle=True)"
   ]
  },
  {
   "cell_type": "code",
   "execution_count": 8,
   "id": "c23a99fd",
   "metadata": {
    "execution": {
     "iopub.execute_input": "2023-04-15T17:49:00.898114Z",
     "iopub.status.busy": "2023-04-15T17:49:00.897316Z",
     "iopub.status.idle": "2023-04-15T17:49:01.073898Z",
     "shell.execute_reply": "2023-04-15T17:49:01.072296Z"
    },
    "papermill": {
     "duration": 0.187781,
     "end_time": "2023-04-15T17:49:01.077652",
     "exception": false,
     "start_time": "2023-04-15T17:49:00.889871",
     "status": "completed"
    },
    "tags": []
   },
   "outputs": [],
   "source": [
    "num_entities = len(dataset.entities)\n",
    "num_relations = len(dataset.relations)\n",
    "embedding_dim = 100\n",
    "hashing = dataset.construct_hash()\n",
    "margin = 1\n",
    "model = TransE(num_entities, num_relations, embedding_dim, hashing, margin)\n"
   ]
  },
  {
   "cell_type": "code",
   "execution_count": 9,
   "id": "514edd01",
   "metadata": {
    "execution": {
     "iopub.execute_input": "2023-04-15T17:49:01.092864Z",
     "iopub.status.busy": "2023-04-15T17:49:01.092112Z",
     "iopub.status.idle": "2023-04-15T17:49:01.119653Z",
     "shell.execute_reply": "2023-04-15T17:49:01.118483Z"
    },
    "papermill": {
     "duration": 0.039094,
     "end_time": "2023-04-15T17:49:01.123247",
     "exception": false,
     "start_time": "2023-04-15T17:49:01.084153",
     "status": "completed"
    },
    "tags": []
   },
   "outputs": [
    {
     "data": {
      "text/plain": [
       "TransE(\n",
       "  (entity_embeddings): Embedding(44740, 100)\n",
       "  (relation_embeddings): Embedding(22, 100)\n",
       ")"
      ]
     },
     "execution_count": 9,
     "metadata": {},
     "output_type": "execute_result"
    }
   ],
   "source": [
    "import torch.optim as optim\n",
    "\n",
    "optimizer = optim.Adam(model.parameters())\n",
    "device = torch.device(\"cuda\" if torch.cuda.is_available() else \"cpu\")\n",
    "model.to(device)"
   ]
  },
  {
   "cell_type": "code",
   "execution_count": 10,
   "id": "0ea60f7d",
   "metadata": {
    "execution": {
     "iopub.execute_input": "2023-04-15T17:49:01.136971Z",
     "iopub.status.busy": "2023-04-15T17:49:01.136092Z",
     "iopub.status.idle": "2023-04-15T18:39:54.512647Z",
     "shell.execute_reply": "2023-04-15T18:39:54.511401Z"
    },
    "papermill": {
     "duration": 3053.392315,
     "end_time": "2023-04-15T18:39:54.522270",
     "exception": false,
     "start_time": "2023-04-15T17:49:01.129955",
     "status": "completed"
    },
    "tags": []
   },
   "outputs": [
    {
     "name": "stdout",
     "output_type": "stream",
     "text": [
      "Epoch 1/50, Loss: 0.9998\n",
      "Epoch 2/50, Loss: 0.9998\n",
      "Epoch 3/50, Loss: 0.9998\n",
      "Epoch 4/50, Loss: 0.9998\n",
      "Epoch 5/50, Loss: 0.9998\n",
      "Epoch 6/50, Loss: 0.9998\n",
      "Epoch 7/50, Loss: 0.9998\n",
      "Epoch 8/50, Loss: 0.9998\n",
      "Epoch 9/50, Loss: 0.9998\n",
      "Epoch 10/50, Loss: 0.9998\n",
      "Epoch 11/50, Loss: 0.9998\n",
      "Epoch 12/50, Loss: 0.9998\n",
      "Epoch 13/50, Loss: 0.9998\n",
      "Epoch 14/50, Loss: 0.9998\n",
      "Epoch 15/50, Loss: 0.9998\n",
      "Epoch 16/50, Loss: 0.9998\n",
      "Epoch 17/50, Loss: 0.9998\n",
      "Epoch 18/50, Loss: 0.9998\n",
      "Epoch 19/50, Loss: 0.9998\n",
      "Epoch 20/50, Loss: 0.9998\n",
      "Epoch 21/50, Loss: 0.9998\n",
      "Epoch 22/50, Loss: 0.9998\n",
      "Epoch 23/50, Loss: 0.9998\n",
      "Epoch 24/50, Loss: 0.9998\n",
      "Epoch 25/50, Loss: 0.9998\n",
      "Epoch 26/50, Loss: 0.9998\n",
      "Epoch 27/50, Loss: 0.9998\n",
      "Epoch 28/50, Loss: 0.9998\n",
      "Epoch 29/50, Loss: 0.9998\n",
      "Epoch 30/50, Loss: 0.9998\n",
      "Epoch 31/50, Loss: 0.9998\n",
      "Epoch 32/50, Loss: 0.9998\n",
      "Epoch 33/50, Loss: 0.9998\n",
      "Epoch 34/50, Loss: 0.9998\n",
      "Epoch 35/50, Loss: 0.9998\n",
      "Epoch 36/50, Loss: 0.9998\n",
      "Epoch 37/50, Loss: 0.9998\n",
      "Epoch 38/50, Loss: 0.9998\n",
      "Epoch 39/50, Loss: 0.9998\n",
      "Epoch 40/50, Loss: 0.9998\n",
      "Epoch 41/50, Loss: 0.9998\n",
      "Epoch 42/50, Loss: 0.9998\n",
      "Epoch 43/50, Loss: 0.9998\n",
      "Epoch 44/50, Loss: 0.9998\n",
      "Epoch 45/50, Loss: 0.9998\n",
      "Epoch 46/50, Loss: 0.9998\n",
      "Epoch 47/50, Loss: 0.9998\n",
      "Epoch 48/50, Loss: 0.9998\n",
      "Epoch 49/50, Loss: 0.9998\n",
      "Epoch 50/50, Loss: 0.9998\n"
     ]
    }
   ],
   "source": [
    "train(50, model, dataset, loader, optimizer, device)"
   ]
  },
  {
   "cell_type": "code",
   "execution_count": 11,
   "id": "47a538aa",
   "metadata": {
    "execution": {
     "iopub.execute_input": "2023-04-15T18:39:54.540332Z",
     "iopub.status.busy": "2023-04-15T18:39:54.538937Z",
     "iopub.status.idle": "2023-04-15T18:39:54.576897Z",
     "shell.execute_reply": "2023-04-15T18:39:54.575664Z"
    },
    "papermill": {
     "duration": 0.049949,
     "end_time": "2023-04-15T18:39:54.579795",
     "exception": false,
     "start_time": "2023-04-15T18:39:54.529846",
     "status": "completed"
    },
    "tags": []
   },
   "outputs": [],
   "source": [
    "torch.save(model.state_dict(), 'model_weights.pth')"
   ]
  },
  {
   "cell_type": "code",
   "execution_count": null,
   "id": "8c2ddc21",
   "metadata": {
    "papermill": {
     "duration": 0.007275,
     "end_time": "2023-04-15T18:39:54.594724",
     "exception": false,
     "start_time": "2023-04-15T18:39:54.587449",
     "status": "completed"
    },
    "tags": []
   },
   "outputs": [],
   "source": []
  }
 ],
 "metadata": {
  "kernelspec": {
   "display_name": "Python 3",
   "language": "python",
   "name": "python3"
  },
  "language_info": {
   "codemirror_mode": {
    "name": "ipython",
    "version": 3
   },
   "file_extension": ".py",
   "mimetype": "text/x-python",
   "name": "python",
   "nbconvert_exporter": "python",
   "pygments_lexer": "ipython3",
   "version": "3.7.12"
  },
  "papermill": {
   "default_parameters": {},
   "duration": 3149.326009,
   "end_time": "2023-04-15T18:39:55.836038",
   "environment_variables": {},
   "exception": null,
   "input_path": "__notebook__.ipynb",
   "output_path": "__notebook__.ipynb",
   "parameters": {},
   "start_time": "2023-04-15T17:47:26.510029",
   "version": "2.4.0"
  }
 },
 "nbformat": 4,
 "nbformat_minor": 5
}
