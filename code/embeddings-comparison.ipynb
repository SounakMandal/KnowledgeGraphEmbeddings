{
 "cells": [
  {
   "cell_type": "code",
   "execution_count": 1,
   "id": "aee53209",
   "metadata": {
    "execution": {
     "iopub.execute_input": "2023-04-15T07:43:12.759716Z",
     "iopub.status.busy": "2023-04-15T07:43:12.759265Z",
     "iopub.status.idle": "2023-04-15T07:43:26.083008Z",
     "shell.execute_reply": "2023-04-15T07:43:26.081423Z"
    },
    "papermill": {
     "duration": 13.334788,
     "end_time": "2023-04-15T07:43:26.086070",
     "exception": false,
     "start_time": "2023-04-15T07:43:12.751282",
     "status": "completed"
    },
    "tags": []
   },
   "outputs": [
    {
     "name": "stdout",
     "output_type": "stream",
     "text": [
      "Collecting rdflib\r\n",
      "  Downloading rdflib-6.3.2-py3-none-any.whl (528 kB)\r\n",
      "\u001b[2K     \u001b[90m━━━━━━━━━━━━━━━━━━━━━━━━━━━━━━━━━━━━━━\u001b[0m \u001b[32m528.1/528.1 kB\u001b[0m \u001b[31m14.2 MB/s\u001b[0m eta \u001b[36m0:00:00\u001b[0m\r\n",
      "\u001b[?25hRequirement already satisfied: importlib-metadata<5.0.0,>=4.0.0 in /opt/conda/lib/python3.7/site-packages (from rdflib) (4.11.4)\r\n",
      "Requirement already satisfied: pyparsing<4,>=2.1.0 in /opt/conda/lib/python3.7/site-packages (from rdflib) (3.0.9)\r\n",
      "Collecting isodate<0.7.0,>=0.6.0\r\n",
      "  Downloading isodate-0.6.1-py2.py3-none-any.whl (41 kB)\r\n",
      "\u001b[2K     \u001b[90m━━━━━━━━━━━━━━━━━━━━━━━━━━━━━━━━━━━━━━━━\u001b[0m \u001b[32m41.7/41.7 kB\u001b[0m \u001b[31m3.1 MB/s\u001b[0m eta \u001b[36m0:00:00\u001b[0m\r\n",
      "\u001b[?25hRequirement already satisfied: typing-extensions>=3.6.4 in /opt/conda/lib/python3.7/site-packages (from importlib-metadata<5.0.0,>=4.0.0->rdflib) (4.4.0)\r\n",
      "Requirement already satisfied: zipp>=0.5 in /opt/conda/lib/python3.7/site-packages (from importlib-metadata<5.0.0,>=4.0.0->rdflib) (3.11.0)\r\n",
      "Requirement already satisfied: six in /opt/conda/lib/python3.7/site-packages (from isodate<0.7.0,>=0.6.0->rdflib) (1.16.0)\r\n",
      "Installing collected packages: isodate, rdflib\r\n",
      "Successfully installed isodate-0.6.1 rdflib-6.3.2\r\n",
      "\u001b[33mWARNING: Running pip as the 'root' user can result in broken permissions and conflicting behaviour with the system package manager. It is recommended to use a virtual environment instead: https://pip.pypa.io/warnings/venv\u001b[0m\u001b[33m\r\n",
      "\u001b[0m"
     ]
    }
   ],
   "source": [
    "!pip install rdflib"
   ]
  },
  {
   "cell_type": "code",
   "execution_count": 2,
   "id": "322de7ad",
   "metadata": {
    "execution": {
     "iopub.execute_input": "2023-04-15T07:43:26.098152Z",
     "iopub.status.busy": "2023-04-15T07:43:26.097206Z",
     "iopub.status.idle": "2023-04-15T07:43:26.605365Z",
     "shell.execute_reply": "2023-04-15T07:43:26.604019Z"
    },
    "papermill": {
     "duration": 0.517206,
     "end_time": "2023-04-15T07:43:26.608167",
     "exception": false,
     "start_time": "2023-04-15T07:43:26.090961",
     "status": "completed"
    },
    "tags": []
   },
   "outputs": [],
   "source": [
    "import rdflib\n",
    "import numpy as np\n",
    "import random\n",
    "\n",
    "\n",
    "class TriplesDataset:\n",
    "    def __init__(self, url_list: str) -> None:\n",
    "        datapoints = []\n",
    "        labels = []\n",
    "        entities = set()\n",
    "        relations = set()\n",
    "        \n",
    "        for url in url_list:\n",
    "            graph_variable = rdflib.Graph()\n",
    "            resultGraph = graph_variable.parse(url)\n",
    "            for subject_item, predicate, object_item in resultGraph.triples((None, None, None)):\n",
    "                if type(object_item) != rdflib.term.URIRef:\n",
    "                    continue\n",
    "                \n",
    "                # add them to entities and relations\n",
    "                entities.add(str(subject_item))\n",
    "                entities.add(str(object_item))\n",
    "                relations.add(str(predicate))\n",
    "                \n",
    "                # add them to datapoints\n",
    "                datapoints.append(\n",
    "                    tuple([str(subject_item), str(object_item)])\n",
    "                )\n",
    "                labels.append(predicate)\n",
    "        \n",
    "        self.entities = list(entities)\n",
    "        self.relations = list(relations)\n",
    "        self.datapoints = datapoints\n",
    "        self.labels = labels\n",
    "        \n",
    "        print(f\"Entites : {len(self.entities)}\")\n",
    "        print(f\"Datapoints shape : {len(self.datapoints)}\")\n",
    "        print(f\"Labels = {len(self.labels)}\")\n",
    "    \n",
    "    def generate_negative_samples(self, count):\n",
    "        links_set = set(self.datapoints)\n",
    "        entities_set = self.entities\n",
    "        entities_count = len(entities_set)\n",
    "        \n",
    "        negative_samples = set()\n",
    "        while len(negative_samples) != count:\n",
    "            head_index, tail_index = random.sample(range(entities_count), 2)\n",
    "            head = entities_set[head_index]\n",
    "            tail = entities_set[tail_index]\n",
    "            possible_sample = tuple([head, tail])\n",
    "            if possible_sample not in links_set:\n",
    "                negative_samples.add(possible_sample)\n",
    "        return list(negative_samples)"
   ]
  },
  {
   "cell_type": "code",
   "execution_count": 3,
   "id": "e21eb009",
   "metadata": {
    "execution": {
     "iopub.execute_input": "2023-04-15T07:43:26.619303Z",
     "iopub.status.busy": "2023-04-15T07:43:26.618894Z",
     "iopub.status.idle": "2023-04-15T07:44:34.509292Z",
     "shell.execute_reply": "2023-04-15T07:44:34.507524Z"
    },
    "papermill": {
     "duration": 67.903176,
     "end_time": "2023-04-15T07:44:34.516130",
     "exception": false,
     "start_time": "2023-04-15T07:43:26.612954",
     "status": "completed"
    },
    "tags": []
   },
   "outputs": [
    {
     "name": "stdout",
     "output_type": "stream",
     "text": [
      "Entites : 44740\n",
      "Datapoints shape : 297285\n",
      "Labels = 297285\n"
     ]
    }
   ],
   "source": [
    "dataFilePath = [\n",
    "    \"/kaggle/input/bgs-dataset/625KGeologyMap_all.nt\",\n",
    "    \"/kaggle/input/bgs-dataset/dataholdings.nt\",\n",
    "    \"/kaggle/input/bgs-dataset/earth-material-class.nt\",\n",
    "    \"/kaggle/input/bgs-dataset/geochronology.nt\",\n",
    "    \"/kaggle/input/bgs-dataset/lexicon-named-rock-unit.nt\"\n",
    "]\n",
    "dataset = TriplesDataset(dataFilePath)"
   ]
  },
  {
   "cell_type": "code",
   "execution_count": 4,
   "id": "dcb027a5",
   "metadata": {
    "execution": {
     "iopub.execute_input": "2023-04-15T07:44:34.527275Z",
     "iopub.status.busy": "2023-04-15T07:44:34.526859Z",
     "iopub.status.idle": "2023-04-15T07:44:36.407463Z",
     "shell.execute_reply": "2023-04-15T07:44:36.406421Z"
    },
    "papermill": {
     "duration": 1.889741,
     "end_time": "2023-04-15T07:44:36.410521",
     "exception": false,
     "start_time": "2023-04-15T07:44:34.520780",
     "status": "completed"
    },
    "tags": []
   },
   "outputs": [],
   "source": [
    "from gensim.models import KeyedVectors\n",
    "\n",
    "filePath = '/kaggle/input/knowledgegraphembeddings/nodeEmbeddings100.bin'\n",
    "embeddings = KeyedVectors.load_word2vec_format(filePath, binary=True)"
   ]
  },
  {
   "cell_type": "code",
   "execution_count": 5,
   "id": "02d7c417",
   "metadata": {
    "execution": {
     "iopub.execute_input": "2023-04-15T07:44:36.422553Z",
     "iopub.status.busy": "2023-04-15T07:44:36.421495Z",
     "iopub.status.idle": "2023-04-15T07:44:38.966869Z",
     "shell.execute_reply": "2023-04-15T07:44:38.965664Z"
    },
    "papermill": {
     "duration": 2.554431,
     "end_time": "2023-04-15T07:44:38.970003",
     "exception": false,
     "start_time": "2023-04-15T07:44:36.415572",
     "status": "completed"
    },
    "tags": []
   },
   "outputs": [],
   "source": [
    "import torch\n",
    "import torch.nn as nn\n",
    "\n",
    "# Define the model\n",
    "class Classifier(nn.Module):\n",
    "    def __init__(self, dimension, outputs):\n",
    "        super(Classifier, self).__init__()\n",
    "        self.fc1 = nn.Linear(dimension, 64)\n",
    "        self.fc2 = nn.Linear(64, 32)\n",
    "        self.fc3 = nn.Linear(32, outputs)\n",
    "\n",
    "    def forward(self, x):\n",
    "        x = torch.relu(self.fc1(x))\n",
    "        x = torch.relu(self.fc2(x))\n",
    "        x = torch.sigmoid(self.fc3(x))\n",
    "        return x"
   ]
  },
  {
   "cell_type": "code",
   "execution_count": 6,
   "id": "fa83f2d6",
   "metadata": {
    "execution": {
     "iopub.execute_input": "2023-04-15T07:44:38.982032Z",
     "iopub.status.busy": "2023-04-15T07:44:38.980767Z",
     "iopub.status.idle": "2023-04-15T07:44:38.988415Z",
     "shell.execute_reply": "2023-04-15T07:44:38.987132Z"
    },
    "papermill": {
     "duration": 0.016032,
     "end_time": "2023-04-15T07:44:38.990808",
     "exception": false,
     "start_time": "2023-04-15T07:44:38.974776",
     "status": "completed"
    },
    "tags": []
   },
   "outputs": [],
   "source": [
    "import torch.optim as optim\n",
    "\n",
    "# Define the training loop\n",
    "def train(model, criterion, optimizer, train_loader, device):\n",
    "    # Set the model to training mode\n",
    "    model.train()\n",
    "\n",
    "    # Loop over the training data\n",
    "    for data, target in train_loader:\n",
    "        # Move the data to the device\n",
    "        data, target = data.to(device), target.to(device)\n",
    "\n",
    "        # Zero the gradients\n",
    "        optimizer.zero_grad()\n",
    "\n",
    "        # Forward pass\n",
    "        output = model(data)\n",
    "\n",
    "        # Compute the loss\n",
    "        loss = criterion(output, target)\n",
    "\n",
    "        # Backward pass\n",
    "        loss.backward()\n",
    "\n",
    "        # Update the parameters\n",
    "        optimizer.step()"
   ]
  },
  {
   "cell_type": "code",
   "execution_count": 7,
   "id": "fb326ff3",
   "metadata": {
    "execution": {
     "iopub.execute_input": "2023-04-15T07:44:39.002166Z",
     "iopub.status.busy": "2023-04-15T07:44:39.001775Z",
     "iopub.status.idle": "2023-04-15T07:44:39.008244Z",
     "shell.execute_reply": "2023-04-15T07:44:39.006820Z"
    },
    "papermill": {
     "duration": 0.015164,
     "end_time": "2023-04-15T07:44:39.010640",
     "exception": false,
     "start_time": "2023-04-15T07:44:38.995476",
     "status": "completed"
    },
    "tags": []
   },
   "outputs": [],
   "source": [
    "def embed(embeddings, datapoint):\n",
    "    head, tail = datapoint\n",
    "    head_embedding = embeddings[head]\n",
    "    tail_embedding = embeddings[tail]\n",
    "    return np.concatenate([head_embedding, tail_embedding])"
   ]
  },
  {
   "cell_type": "code",
   "execution_count": 8,
   "id": "5566952c",
   "metadata": {
    "execution": {
     "iopub.execute_input": "2023-04-15T07:44:39.022530Z",
     "iopub.status.busy": "2023-04-15T07:44:39.022070Z",
     "iopub.status.idle": "2023-04-15T07:44:46.373342Z",
     "shell.execute_reply": "2023-04-15T07:44:46.372049Z"
    },
    "papermill": {
     "duration": 7.360965,
     "end_time": "2023-04-15T07:44:46.376298",
     "exception": false,
     "start_time": "2023-04-15T07:44:39.015333",
     "status": "completed"
    },
    "tags": []
   },
   "outputs": [
    {
     "name": "stdout",
     "output_type": "stream",
     "text": [
      "594570\n",
      "torch.Size([594570, 200])\n"
     ]
    }
   ],
   "source": [
    "# Set the random seed\n",
    "torch.manual_seed(0)\n",
    "\n",
    "# Define the training data\n",
    "positive_samples = dataset.datapoints\n",
    "negative_samples = dataset.generate_negative_samples(len(positive_samples))\n",
    "all_samples = positive_samples + negative_samples\n",
    "print(len(all_samples))\n",
    "x = map(lambda sample : embed(embeddings, sample), all_samples)\n",
    "x_train = torch.tensor(np.array(list(x)))\n",
    "\n",
    "print(x_train.shape)\n"
   ]
  },
  {
   "cell_type": "code",
   "execution_count": 9,
   "id": "245c72bc",
   "metadata": {
    "execution": {
     "iopub.execute_input": "2023-04-15T07:44:46.388345Z",
     "iopub.status.busy": "2023-04-15T07:44:46.387296Z",
     "iopub.status.idle": "2023-04-15T07:44:46.525022Z",
     "shell.execute_reply": "2023-04-15T07:44:46.523238Z"
    },
    "papermill": {
     "duration": 0.146777,
     "end_time": "2023-04-15T07:44:46.527964",
     "exception": false,
     "start_time": "2023-04-15T07:44:46.381187",
     "status": "completed"
    },
    "tags": []
   },
   "outputs": [
    {
     "name": "stdout",
     "output_type": "stream",
     "text": [
      "torch.Size([594570, 1])\n"
     ]
    },
    {
     "name": "stderr",
     "output_type": "stream",
     "text": [
      "/opt/conda/lib/python3.7/site-packages/ipykernel_launcher.py:5: UserWarning: To copy construct from a tensor, it is recommended to use sourceTensor.clone().detach() or sourceTensor.clone().detach().requires_grad_(True), rather than torch.tensor(sourceTensor).\n",
      "  \"\"\"\n"
     ]
    }
   ],
   "source": [
    "torch_labels = torch.tensor([1 for label in dataset.labels])\n",
    "positive_labels = torch.ones_like(torch_labels)\n",
    "negative_labels = torch.zeros_like(torch_labels)\n",
    "all_labels = torch.cat([positive_labels, negative_labels])\n",
    "y_train = torch.tensor(all_labels).float().unsqueeze(1)\n",
    "\n",
    "print(y_train.shape)\n"
   ]
  },
  {
   "cell_type": "code",
   "execution_count": 10,
   "id": "4512372b",
   "metadata": {
    "execution": {
     "iopub.execute_input": "2023-04-15T07:44:46.540375Z",
     "iopub.status.busy": "2023-04-15T07:44:46.539949Z",
     "iopub.status.idle": "2023-04-15T07:44:46.644030Z",
     "shell.execute_reply": "2023-04-15T07:44:46.642265Z"
    },
    "papermill": {
     "duration": 0.11391,
     "end_time": "2023-04-15T07:44:46.647250",
     "exception": false,
     "start_time": "2023-04-15T07:44:46.533340",
     "status": "completed"
    },
    "tags": []
   },
   "outputs": [],
   "source": [
    "from torch.utils.data import TensorDataset, DataLoader, random_split\n",
    "\n",
    "dataset = torch.utils.data.TensorDataset(x_train, y_train)\n",
    "\n",
    "# Define the sizes of the train and validation sets\n",
    "train_size = int(0.8 * len(dataset))\n",
    "val_size = len(dataset) - train_size\n",
    "train_dataset, val_dataset = random_split(dataset, [train_size, val_size])\n",
    "\n",
    "# make dataloaders\n",
    "train_loader = DataLoader(train_dataset, batch_size=128, shuffle=True)\n",
    "val_loader = DataLoader(val_dataset, batch_size=128, shuffle=True)"
   ]
  },
  {
   "cell_type": "code",
   "execution_count": 11,
   "id": "838972cf",
   "metadata": {
    "execution": {
     "iopub.execute_input": "2023-04-15T07:44:46.659407Z",
     "iopub.status.busy": "2023-04-15T07:44:46.658969Z",
     "iopub.status.idle": "2023-04-15T07:51:54.290562Z",
     "shell.execute_reply": "2023-04-15T07:51:54.289139Z"
    },
    "papermill": {
     "duration": 427.640932,
     "end_time": "2023-04-15T07:51:54.293304",
     "exception": false,
     "start_time": "2023-04-15T07:44:46.652372",
     "status": "completed"
    },
    "tags": []
   },
   "outputs": [
    {
     "name": "stdout",
     "output_type": "stream",
     "text": [
      "Epoch 1 completed\n",
      "Epoch 2 completed\n",
      "Epoch 3 completed\n",
      "Epoch 4 completed\n",
      "Epoch 5 completed\n",
      "Epoch 6 completed\n",
      "Epoch 7 completed\n",
      "Epoch 8 completed\n",
      "Epoch 9 completed\n",
      "Epoch 10 completed\n",
      "Epoch 11 completed\n",
      "Epoch 12 completed\n",
      "Epoch 13 completed\n",
      "Epoch 14 completed\n",
      "Epoch 15 completed\n",
      "Epoch 16 completed\n",
      "Epoch 17 completed\n",
      "Epoch 18 completed\n",
      "Epoch 19 completed\n",
      "Epoch 20 completed\n",
      "Epoch 21 completed\n",
      "Epoch 22 completed\n",
      "Epoch 23 completed\n",
      "Epoch 24 completed\n",
      "Epoch 25 completed\n",
      "Epoch 26 completed\n",
      "Epoch 27 completed\n",
      "Epoch 28 completed\n",
      "Epoch 29 completed\n",
      "Epoch 30 completed\n",
      "Epoch 31 completed\n",
      "Epoch 32 completed\n",
      "Epoch 33 completed\n",
      "Epoch 34 completed\n",
      "Epoch 35 completed\n",
      "Epoch 36 completed\n",
      "Epoch 37 completed\n",
      "Epoch 38 completed\n",
      "Epoch 39 completed\n",
      "Epoch 40 completed\n",
      "Epoch 41 completed\n",
      "Epoch 42 completed\n",
      "Epoch 43 completed\n",
      "Epoch 44 completed\n",
      "Epoch 45 completed\n",
      "Epoch 46 completed\n",
      "Epoch 47 completed\n",
      "Epoch 48 completed\n",
      "Epoch 49 completed\n",
      "Epoch 50 completed\n"
     ]
    }
   ],
   "source": [
    "# Define the input and output dimensions\n",
    "input_dimension = 2 * embeddings.vectors.shape[1]\n",
    "output_dimension = 1\n",
    "\n",
    "# Define the model, criterion, optimizer, and device\n",
    "model = Classifier(input_dimension, output_dimension)\n",
    "criterion = nn.BCELoss()\n",
    "optimizer = optim.Adam(model.parameters())\n",
    "device = torch.device(\"cuda\" if torch.cuda.is_available() else \"cpu\")\n",
    "\n",
    "# Move the model to the device\n",
    "model.to(device)\n",
    "\n",
    "# Train the model\n",
    "for epoch in range(50):\n",
    "    train(model, criterion, optimizer, train_loader, device)\n",
    "    print(f\"Epoch {epoch+1} completed\")\n",
    "\n",
    "# Save the model\n",
    "torch.save(model.state_dict(), \"model.pth\")\n"
   ]
  },
  {
   "cell_type": "code",
   "execution_count": 12,
   "id": "ffee3821",
   "metadata": {
    "execution": {
     "iopub.execute_input": "2023-04-15T07:51:54.311632Z",
     "iopub.status.busy": "2023-04-15T07:51:54.310876Z",
     "iopub.status.idle": "2023-04-15T07:51:55.536107Z",
     "shell.execute_reply": "2023-04-15T07:51:55.534688Z"
    },
    "papermill": {
     "duration": 1.237509,
     "end_time": "2023-04-15T07:51:55.538824",
     "exception": false,
     "start_time": "2023-04-15T07:51:54.301315",
     "status": "completed"
    },
    "tags": []
   },
   "outputs": [
    {
     "name": "stderr",
     "output_type": "stream",
     "text": [
      "/opt/conda/lib/python3.7/site-packages/ipykernel_launcher.py:14: UserWarning: To copy construct from a tensor, it is recommended to use sourceTensor.clone().detach() or sourceTensor.clone().detach().requires_grad_(True), rather than torch.tensor(sourceTensor).\n",
      "  \n"
     ]
    },
    {
     "name": "stdout",
     "output_type": "stream",
     "text": [
      "tensor(0.9858)\n"
     ]
    }
   ],
   "source": [
    "# Load the saved model\n",
    "state_dict = torch.load(\n",
    "    \"/kaggle/working/model.pth\",\n",
    "    map_location=device\n",
    ")\n",
    "model = Classifier(input_dimension, output_dimension)\n",
    "model.load_state_dict(state_dict)\n",
    "\n",
    "# Evaluate the model on some test data\n",
    "with torch.no_grad():\n",
    "    val_accuracy = 0.0\n",
    "    for test_input, label in val_loader:\n",
    "        output = model(test_input)  # use the model to make predictions on the test data\n",
    "        predictions = torch.tensor(output >= 0.5, dtype=float)\n",
    "        val_accuracy += torch.sum(predictions == label)\n",
    "    val_accuracy /= len(val_loader.dataset)\n",
    "print(val_accuracy)"
   ]
  },
  {
   "cell_type": "code",
   "execution_count": null,
   "id": "95e7cd7e",
   "metadata": {
    "papermill": {
     "duration": 0.007803,
     "end_time": "2023-04-15T07:51:55.554691",
     "exception": false,
     "start_time": "2023-04-15T07:51:55.546888",
     "status": "completed"
    },
    "tags": []
   },
   "outputs": [],
   "source": []
  }
 ],
 "metadata": {
  "kernelspec": {
   "display_name": "Python 3",
   "language": "python",
   "name": "python3"
  },
  "language_info": {
   "codemirror_mode": {
    "name": "ipython",
    "version": 3
   },
   "file_extension": ".py",
   "mimetype": "text/x-python",
   "name": "python",
   "nbconvert_exporter": "python",
   "pygments_lexer": "ipython3",
   "version": "3.7.12"
  },
  "papermill": {
   "default_parameters": {},
   "duration": 536.43457,
   "end_time": "2023-04-15T07:51:58.187691",
   "environment_variables": {},
   "exception": null,
   "input_path": "__notebook__.ipynb",
   "output_path": "__notebook__.ipynb",
   "parameters": {},
   "start_time": "2023-04-15T07:43:01.753121",
   "version": "2.4.0"
  }
 },
 "nbformat": 4,
 "nbformat_minor": 5
}
