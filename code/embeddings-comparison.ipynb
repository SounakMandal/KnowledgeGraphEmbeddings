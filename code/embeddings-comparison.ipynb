{
 "cells": [
  {
   "cell_type": "code",
   "execution_count": 1,
   "id": "19b46263",
   "metadata": {
    "execution": {
     "iopub.execute_input": "2023-04-16T17:05:42.739022Z",
     "iopub.status.busy": "2023-04-16T17:05:42.738155Z",
     "iopub.status.idle": "2023-04-16T17:05:55.810322Z",
     "shell.execute_reply": "2023-04-16T17:05:55.808638Z"
    },
    "papermill": {
     "duration": 13.085256,
     "end_time": "2023-04-16T17:05:55.813782",
     "exception": false,
     "start_time": "2023-04-16T17:05:42.728526",
     "status": "completed"
    },
    "tags": []
   },
   "outputs": [
    {
     "name": "stdout",
     "output_type": "stream",
     "text": [
      "Collecting rdflib\r\n",
      "  Downloading rdflib-6.3.2-py3-none-any.whl (528 kB)\r\n",
      "\u001b[2K     \u001b[90m━━━━━━━━━━━━━━━━━━━━━━━━━━━━━━━━━━━━━━\u001b[0m \u001b[32m528.1/528.1 kB\u001b[0m \u001b[31m17.9 MB/s\u001b[0m eta \u001b[36m0:00:00\u001b[0m\r\n",
      "\u001b[?25hRequirement already satisfied: pyparsing<4,>=2.1.0 in /opt/conda/lib/python3.7/site-packages (from rdflib) (3.0.9)\r\n",
      "Requirement already satisfied: importlib-metadata<5.0.0,>=4.0.0 in /opt/conda/lib/python3.7/site-packages (from rdflib) (4.11.4)\r\n",
      "Collecting isodate<0.7.0,>=0.6.0\r\n",
      "  Downloading isodate-0.6.1-py2.py3-none-any.whl (41 kB)\r\n",
      "\u001b[2K     \u001b[90m━━━━━━━━━━━━━━━━━━━━━━━━━━━━━━━━━━━━━━━━\u001b[0m \u001b[32m41.7/41.7 kB\u001b[0m \u001b[31m3.4 MB/s\u001b[0m eta \u001b[36m0:00:00\u001b[0m\r\n",
      "\u001b[?25hRequirement already satisfied: typing-extensions>=3.6.4 in /opt/conda/lib/python3.7/site-packages (from importlib-metadata<5.0.0,>=4.0.0->rdflib) (4.4.0)\r\n",
      "Requirement already satisfied: zipp>=0.5 in /opt/conda/lib/python3.7/site-packages (from importlib-metadata<5.0.0,>=4.0.0->rdflib) (3.11.0)\r\n",
      "Requirement already satisfied: six in /opt/conda/lib/python3.7/site-packages (from isodate<0.7.0,>=0.6.0->rdflib) (1.16.0)\r\n",
      "Installing collected packages: isodate, rdflib\r\n",
      "Successfully installed isodate-0.6.1 rdflib-6.3.2\r\n",
      "\u001b[33mWARNING: Running pip as the 'root' user can result in broken permissions and conflicting behaviour with the system package manager. It is recommended to use a virtual environment instead: https://pip.pypa.io/warnings/venv\u001b[0m\u001b[33m\r\n",
      "\u001b[0m"
     ]
    }
   ],
   "source": [
    "!pip install rdflib"
   ]
  },
  {
   "cell_type": "code",
   "execution_count": 2,
   "id": "87fe687a",
   "metadata": {
    "execution": {
     "iopub.execute_input": "2023-04-16T17:05:55.826850Z",
     "iopub.status.busy": "2023-04-16T17:05:55.825722Z",
     "iopub.status.idle": "2023-04-16T17:05:56.349730Z",
     "shell.execute_reply": "2023-04-16T17:05:56.348372Z"
    },
    "papermill": {
     "duration": 0.53352,
     "end_time": "2023-04-16T17:05:56.352699",
     "exception": false,
     "start_time": "2023-04-16T17:05:55.819179",
     "status": "completed"
    },
    "tags": []
   },
   "outputs": [],
   "source": [
    "import rdflib\n",
    "import numpy as np\n",
    "import random\n",
    "\n",
    "\n",
    "class TriplesDataset:\n",
    "    def __init__(self, url_list: str) -> None:\n",
    "        datapoints = []\n",
    "        labels = []\n",
    "        entities = set()\n",
    "        relations = set()\n",
    "        \n",
    "        for url in url_list:\n",
    "            graph_variable = rdflib.Graph()\n",
    "            resultGraph = graph_variable.parse(url)\n",
    "            for subject_item, predicate, object_item in resultGraph.triples((None, None, None)):\n",
    "                if type(object_item) != rdflib.term.URIRef:\n",
    "                    continue\n",
    "                \n",
    "                # add them to entities and relations\n",
    "                entities.add(str(subject_item))\n",
    "                entities.add(str(object_item))\n",
    "                relations.add(str(predicate))\n",
    "                \n",
    "                # add them to datapoints\n",
    "                datapoints.append(\n",
    "                    tuple([str(subject_item), str(object_item)])\n",
    "                )\n",
    "                labels.append(predicate)\n",
    "        \n",
    "        self.entities = list(entities)\n",
    "        self.relations = list(relations)\n",
    "        self.datapoints = datapoints\n",
    "        self.labels = labels\n",
    "        \n",
    "        print(f\"Entites : {len(self.entities)}\")\n",
    "        print(f\"Datapoints shape : {len(self.datapoints)}\")\n",
    "        print(f\"Labels = {len(self.labels)}\")\n",
    "    \n",
    "    def generate_negative_samples(self, count):\n",
    "        links_set = set(self.datapoints)\n",
    "        entities_set = self.entities\n",
    "        entities_count = len(entities_set)\n",
    "        \n",
    "        negative_samples = set()\n",
    "        while len(negative_samples) != count:\n",
    "            head_index, tail_index = random.sample(range(entities_count), 2)\n",
    "            head = entities_set[head_index]\n",
    "            tail = entities_set[tail_index]\n",
    "            possible_sample = tuple([head, tail])\n",
    "            if possible_sample not in links_set:\n",
    "                negative_samples.add(possible_sample)\n",
    "        return list(negative_samples)"
   ]
  },
  {
   "cell_type": "code",
   "execution_count": 3,
   "id": "7544fdff",
   "metadata": {
    "execution": {
     "iopub.execute_input": "2023-04-16T17:05:56.364432Z",
     "iopub.status.busy": "2023-04-16T17:05:56.363986Z",
     "iopub.status.idle": "2023-04-16T17:05:59.213839Z",
     "shell.execute_reply": "2023-04-16T17:05:59.212558Z"
    },
    "papermill": {
     "duration": 2.859836,
     "end_time": "2023-04-16T17:05:59.217474",
     "exception": false,
     "start_time": "2023-04-16T17:05:56.357638",
     "status": "completed"
    },
    "tags": []
   },
   "outputs": [],
   "source": [
    "import torch\n",
    "import torch.nn as nn\n",
    "\n",
    "# Define the model\n",
    "class Classifier(nn.Module):\n",
    "    def __init__(self, dimension, outputs):\n",
    "        super(Classifier, self).__init__()\n",
    "        self.fc1 = nn.Linear(dimension, 64)\n",
    "        self.fc2 = nn.Linear(64, 32)\n",
    "        self.fc3 = nn.Linear(32, outputs)\n",
    "\n",
    "    def forward(self, x):\n",
    "        x = torch.relu(self.fc1(x))\n",
    "        x = torch.relu(self.fc2(x))\n",
    "        x = torch.sigmoid(self.fc3(x))\n",
    "        return x"
   ]
  },
  {
   "cell_type": "code",
   "execution_count": 4,
   "id": "1ec0c1c9",
   "metadata": {
    "execution": {
     "iopub.execute_input": "2023-04-16T17:05:59.229386Z",
     "iopub.status.busy": "2023-04-16T17:05:59.228632Z",
     "iopub.status.idle": "2023-04-16T17:05:59.236664Z",
     "shell.execute_reply": "2023-04-16T17:05:59.235348Z"
    },
    "papermill": {
     "duration": 0.016725,
     "end_time": "2023-04-16T17:05:59.239159",
     "exception": false,
     "start_time": "2023-04-16T17:05:59.222434",
     "status": "completed"
    },
    "tags": []
   },
   "outputs": [],
   "source": [
    "import torch.optim as optim\n",
    "\n",
    "# Define the training loop\n",
    "def train(model, criterion, optimizer, train_loader, device):\n",
    "    # Set the model to training mode\n",
    "    model.train()\n",
    "\n",
    "    # Loop over the training data\n",
    "    for data, target in train_loader:\n",
    "        # Move the data to the device\n",
    "        data, target = data.to(device), target.to(device)\n",
    "\n",
    "        # Zero the gradients\n",
    "        optimizer.zero_grad()\n",
    "\n",
    "        # Forward pass\n",
    "        output = model(data)\n",
    "\n",
    "        # Compute the loss\n",
    "        loss = criterion(output, target)\n",
    "\n",
    "        # Backward pass\n",
    "        loss.backward()\n",
    "\n",
    "        # Update the parameters\n",
    "        optimizer.step()"
   ]
  },
  {
   "cell_type": "code",
   "execution_count": 5,
   "id": "dd0ba3f9",
   "metadata": {
    "execution": {
     "iopub.execute_input": "2023-04-16T17:05:59.250736Z",
     "iopub.status.busy": "2023-04-16T17:05:59.250239Z",
     "iopub.status.idle": "2023-04-16T17:05:59.257548Z",
     "shell.execute_reply": "2023-04-16T17:05:59.256201Z"
    },
    "papermill": {
     "duration": 0.01644,
     "end_time": "2023-04-16T17:05:59.260234",
     "exception": false,
     "start_time": "2023-04-16T17:05:59.243794",
     "status": "completed"
    },
    "tags": []
   },
   "outputs": [],
   "source": [
    "def evaluate(model, val_loader):\n",
    "    # Evaluate the model on some test data\n",
    "    with torch.no_grad():\n",
    "        val_accuracy = 0.0\n",
    "        for test_input, label in val_loader:\n",
    "            output = model(test_input)  # use the model to make predictions on the test data\n",
    "            predictions = torch.tensor(output >= 0.5, dtype=float)\n",
    "            val_accuracy += torch.sum(predictions == label)\n",
    "        val_accuracy /= len(val_loader.dataset)\n",
    "    print(\"Accuracy : \", val_accuracy)"
   ]
  },
  {
   "cell_type": "code",
   "execution_count": 6,
   "id": "d758fdca",
   "metadata": {
    "execution": {
     "iopub.execute_input": "2023-04-16T17:05:59.272182Z",
     "iopub.status.busy": "2023-04-16T17:05:59.270948Z",
     "iopub.status.idle": "2023-04-16T17:05:59.277781Z",
     "shell.execute_reply": "2023-04-16T17:05:59.276613Z"
    },
    "papermill": {
     "duration": 0.015734,
     "end_time": "2023-04-16T17:05:59.280570",
     "exception": false,
     "start_time": "2023-04-16T17:05:59.264836",
     "status": "completed"
    },
    "tags": []
   },
   "outputs": [],
   "source": [
    "def embed(embeddings, datapoint):\n",
    "    head, tail = datapoint\n",
    "    head_embedding = embeddings[head]\n",
    "    tail_embedding = embeddings[tail]\n",
    "    return np.concatenate([head_embedding, tail_embedding])"
   ]
  },
  {
   "cell_type": "code",
   "execution_count": 7,
   "id": "6c672c34",
   "metadata": {
    "execution": {
     "iopub.execute_input": "2023-04-16T17:05:59.292685Z",
     "iopub.status.busy": "2023-04-16T17:05:59.291787Z",
     "iopub.status.idle": "2023-04-16T17:05:59.305242Z",
     "shell.execute_reply": "2023-04-16T17:05:59.303913Z"
    },
    "papermill": {
     "duration": 0.022673,
     "end_time": "2023-04-16T17:05:59.307870",
     "exception": false,
     "start_time": "2023-04-16T17:05:59.285197",
     "status": "completed"
    },
    "tags": []
   },
   "outputs": [
    {
     "data": {
      "text/plain": [
       "<torch._C.Generator at 0x76a9198d22f0>"
      ]
     },
     "execution_count": 7,
     "metadata": {},
     "output_type": "execute_result"
    }
   ],
   "source": [
    "# Set the random seed\n",
    "torch.manual_seed(0)"
   ]
  },
  {
   "cell_type": "code",
   "execution_count": 8,
   "id": "0a3e9eda",
   "metadata": {
    "execution": {
     "iopub.execute_input": "2023-04-16T17:05:59.319775Z",
     "iopub.status.busy": "2023-04-16T17:05:59.318872Z",
     "iopub.status.idle": "2023-04-16T17:05:59.331969Z",
     "shell.execute_reply": "2023-04-16T17:05:59.330988Z"
    },
    "papermill": {
     "duration": 0.02209,
     "end_time": "2023-04-16T17:05:59.334756",
     "exception": false,
     "start_time": "2023-04-16T17:05:59.312666",
     "status": "completed"
    },
    "tags": []
   },
   "outputs": [],
   "source": [
    "from torch.utils.data import TensorDataset, DataLoader, random_split\n",
    "\n",
    "def generate_loaders(dataset, embeddings):\n",
    "    # Define the training data\n",
    "    positive_samples = dataset.datapoints\n",
    "    negative_samples = dataset.generate_negative_samples(len(positive_samples))\n",
    "    all_samples = positive_samples + negative_samples\n",
    "    print(\"All samples size : \", len(all_samples))\n",
    "\n",
    "    x = map(lambda sample : embed(embeddings, sample), all_samples)\n",
    "    x_train = torch.tensor(np.array(list(x)))\n",
    "    print(\"Training dataset size\", x_train.shape)\n",
    "    \n",
    "    torch_labels = torch.tensor([1 for label in dataset.labels])\n",
    "    positive_labels = torch.ones_like(torch_labels)\n",
    "    negative_labels = torch.zeros_like(torch_labels)\n",
    "    all_labels = torch.cat([positive_labels, negative_labels])\n",
    "    y_train = torch.tensor(all_labels).float().unsqueeze(1)\n",
    "    print(\"Training labels size : \", y_train.shape)\n",
    "\n",
    "    dataset = torch.utils.data.TensorDataset(x_train, y_train)\n",
    "\n",
    "    # Define the sizes of the train and validation sets\n",
    "    train_size = int(0.8 * len(dataset))\n",
    "    val_size = len(dataset) - train_size\n",
    "    train_dataset, val_dataset = random_split(dataset, [train_size, val_size])\n",
    "\n",
    "    # make dataloaders\n",
    "    train_loader = DataLoader(train_dataset, batch_size=128, shuffle=True)\n",
    "    val_loader = DataLoader(val_dataset, batch_size=128, shuffle=True)\n",
    "    \n",
    "    return train_loader, val_loader"
   ]
  },
  {
   "cell_type": "code",
   "execution_count": 9,
   "id": "671aa4af",
   "metadata": {
    "execution": {
     "iopub.execute_input": "2023-04-16T17:05:59.346926Z",
     "iopub.status.busy": "2023-04-16T17:05:59.346195Z",
     "iopub.status.idle": "2023-04-16T17:05:59.355166Z",
     "shell.execute_reply": "2023-04-16T17:05:59.354068Z"
    },
    "papermill": {
     "duration": 0.018285,
     "end_time": "2023-04-16T17:05:59.357743",
     "exception": false,
     "start_time": "2023-04-16T17:05:59.339458",
     "status": "completed"
    },
    "tags": []
   },
   "outputs": [],
   "source": [
    "def train_and_evaluate(dataset, embeddings, indicator):\n",
    "    # Define the input and output dimensions\n",
    "    input_dimension = 2 * embeddings.vectors.shape[1]\n",
    "    output_dimension = 1\n",
    "\n",
    "    # Define the model, criterion, optimizer, and device\n",
    "    model = Classifier(input_dimension, output_dimension)\n",
    "    criterion = nn.BCELoss()\n",
    "    optimizer = optim.Adam(model.parameters())\n",
    "    device = torch.device(\"cuda\" if torch.cuda.is_available() else \"cpu\")\n",
    "\n",
    "    # Move the model to the device\n",
    "    model.to(device)\n",
    "    \n",
    "    # generate data loaders\n",
    "    train_loader, val_loader = generate_loaders(dataset, embeddings)\n",
    "    \n",
    "    # Train the model\n",
    "    for epoch in range(50):\n",
    "        train(model, criterion, optimizer, train_loader, device)\n",
    "        print(f\"Epoch {epoch+1} completed\")\n",
    "\n",
    "    # Save the model\n",
    "    torch.save(model.state_dict(), f\"model_state_{indicator}.pth\")\n",
    "    \n",
    "    # evaluate the model\n",
    "    evaluate(model, val_loader)"
   ]
  },
  {
   "cell_type": "code",
   "execution_count": 10,
   "id": "98e0b324",
   "metadata": {
    "execution": {
     "iopub.execute_input": "2023-04-16T17:05:59.369419Z",
     "iopub.status.busy": "2023-04-16T17:05:59.368751Z",
     "iopub.status.idle": "2023-04-16T17:07:08.111376Z",
     "shell.execute_reply": "2023-04-16T17:07:08.109938Z"
    },
    "papermill": {
     "duration": 68.755905,
     "end_time": "2023-04-16T17:07:08.118337",
     "exception": false,
     "start_time": "2023-04-16T17:05:59.362432",
     "status": "completed"
    },
    "tags": []
   },
   "outputs": [
    {
     "name": "stdout",
     "output_type": "stream",
     "text": [
      "Entites : 44740\n",
      "Datapoints shape : 297285\n",
      "Labels = 297285\n"
     ]
    }
   ],
   "source": [
    "dataFilePath = [\n",
    "    \"/kaggle/input/bgs-dataset/625KGeologyMap_all.nt\",\n",
    "    \"/kaggle/input/bgs-dataset/dataholdings.nt\",\n",
    "    \"/kaggle/input/bgs-dataset/earth-material-class.nt\",\n",
    "    \"/kaggle/input/bgs-dataset/geochronology.nt\",\n",
    "    \"/kaggle/input/bgs-dataset/lexicon-named-rock-unit.nt\"\n",
    "]\n",
    "dataset = TriplesDataset(dataFilePath)"
   ]
  },
  {
   "cell_type": "code",
   "execution_count": 11,
   "id": "8e8d9d79",
   "metadata": {
    "execution": {
     "iopub.execute_input": "2023-04-16T17:07:08.130090Z",
     "iopub.status.busy": "2023-04-16T17:07:08.129643Z",
     "iopub.status.idle": "2023-04-16T17:07:09.885991Z",
     "shell.execute_reply": "2023-04-16T17:07:09.884733Z"
    },
    "papermill": {
     "duration": 1.765842,
     "end_time": "2023-04-16T17:07:09.889158",
     "exception": false,
     "start_time": "2023-04-16T17:07:08.123316",
     "status": "completed"
    },
    "tags": []
   },
   "outputs": [],
   "source": [
    "from gensim.models import KeyedVectors\n",
    "\n",
    "filePath = '/kaggle/input/knowledgegraphembeddings/nodeEmbeddings100.bin'\n",
    "embeddings = KeyedVectors.load_word2vec_format(filePath, binary=True)"
   ]
  },
  {
   "cell_type": "code",
   "execution_count": 12,
   "id": "5d76cb76",
   "metadata": {
    "execution": {
     "iopub.execute_input": "2023-04-16T17:07:09.901664Z",
     "iopub.status.busy": "2023-04-16T17:07:09.900848Z",
     "iopub.status.idle": "2023-04-16T17:15:08.543294Z",
     "shell.execute_reply": "2023-04-16T17:15:08.542198Z"
    },
    "papermill": {
     "duration": 478.65886,
     "end_time": "2023-04-16T17:15:08.552958",
     "exception": false,
     "start_time": "2023-04-16T17:07:09.894098",
     "status": "completed"
    },
    "tags": []
   },
   "outputs": [
    {
     "name": "stdout",
     "output_type": "stream",
     "text": [
      "All samples size :  594570\n",
      "Training dataset size torch.Size([594570, 200])\n",
      "Training labels size :  torch.Size([594570, 1])\n"
     ]
    },
    {
     "name": "stderr",
     "output_type": "stream",
     "text": [
      "/opt/conda/lib/python3.7/site-packages/ipykernel_launcher.py:18: UserWarning: To copy construct from a tensor, it is recommended to use sourceTensor.clone().detach() or sourceTensor.clone().detach().requires_grad_(True), rather than torch.tensor(sourceTensor).\n"
     ]
    },
    {
     "name": "stdout",
     "output_type": "stream",
     "text": [
      "Epoch 1 completed\n",
      "Epoch 2 completed\n",
      "Epoch 3 completed\n",
      "Epoch 4 completed\n",
      "Epoch 5 completed\n",
      "Epoch 6 completed\n",
      "Epoch 7 completed\n",
      "Epoch 8 completed\n",
      "Epoch 9 completed\n",
      "Epoch 10 completed\n",
      "Epoch 11 completed\n",
      "Epoch 12 completed\n",
      "Epoch 13 completed\n",
      "Epoch 14 completed\n",
      "Epoch 15 completed\n",
      "Epoch 16 completed\n",
      "Epoch 17 completed\n",
      "Epoch 18 completed\n",
      "Epoch 19 completed\n",
      "Epoch 20 completed\n",
      "Epoch 21 completed\n",
      "Epoch 22 completed\n",
      "Epoch 23 completed\n",
      "Epoch 24 completed\n",
      "Epoch 25 completed\n",
      "Epoch 26 completed\n",
      "Epoch 27 completed\n",
      "Epoch 28 completed\n",
      "Epoch 29 completed\n",
      "Epoch 30 completed\n",
      "Epoch 31 completed\n",
      "Epoch 32 completed\n",
      "Epoch 33 completed\n",
      "Epoch 34 completed\n",
      "Epoch 35 completed\n",
      "Epoch 36 completed\n",
      "Epoch 37 completed\n",
      "Epoch 38 completed\n",
      "Epoch 39 completed\n",
      "Epoch 40 completed\n",
      "Epoch 41 completed\n",
      "Epoch 42 completed\n",
      "Epoch 43 completed\n",
      "Epoch 44 completed\n",
      "Epoch 45 completed\n",
      "Epoch 46 completed\n",
      "Epoch 47 completed\n",
      "Epoch 48 completed\n",
      "Epoch 49 completed\n",
      "Epoch 50 completed\n"
     ]
    },
    {
     "name": "stderr",
     "output_type": "stream",
     "text": [
      "/opt/conda/lib/python3.7/site-packages/ipykernel_launcher.py:7: UserWarning: To copy construct from a tensor, it is recommended to use sourceTensor.clone().detach() or sourceTensor.clone().detach().requires_grad_(True), rather than torch.tensor(sourceTensor).\n",
      "  import sys\n"
     ]
    },
    {
     "name": "stdout",
     "output_type": "stream",
     "text": [
      "Accuracy :  tensor(0.9870)\n"
     ]
    }
   ],
   "source": [
    "train_and_evaluate(dataset, embeddings, \"graph_walk\")"
   ]
  },
  {
   "cell_type": "code",
   "execution_count": null,
   "id": "e60e1638",
   "metadata": {
    "papermill": {
     "duration": 0.007582,
     "end_time": "2023-04-16T17:15:08.568482",
     "exception": false,
     "start_time": "2023-04-16T17:15:08.560900",
     "status": "completed"
    },
    "tags": []
   },
   "outputs": [],
   "source": []
  }
 ],
 "metadata": {
  "kernelspec": {
   "display_name": "Python 3",
   "language": "python",
   "name": "python3"
  },
  "language_info": {
   "codemirror_mode": {
    "name": "ipython",
    "version": 3
   },
   "file_extension": ".py",
   "mimetype": "text/x-python",
   "name": "python",
   "nbconvert_exporter": "python",
   "pygments_lexer": "ipython3",
   "version": "3.7.12"
  },
  "papermill": {
   "default_parameters": {},
   "duration": 579.08814,
   "end_time": "2023-04-16T17:15:11.199445",
   "environment_variables": {},
   "exception": null,
   "input_path": "__notebook__.ipynb",
   "output_path": "__notebook__.ipynb",
   "parameters": {},
   "start_time": "2023-04-16T17:05:32.111305",
   "version": "2.4.0"
  }
 },
 "nbformat": 4,
 "nbformat_minor": 5
}
