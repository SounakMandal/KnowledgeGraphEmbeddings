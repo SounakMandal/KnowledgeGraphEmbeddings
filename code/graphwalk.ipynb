{
 "cells": [
  {
   "cell_type": "code",
   "execution_count": 1,
   "id": "216dd005",
   "metadata": {
    "execution": {
     "iopub.execute_input": "2023-04-14T18:50:23.745548Z",
     "iopub.status.busy": "2023-04-14T18:50:23.745150Z",
     "iopub.status.idle": "2023-04-14T18:50:36.684578Z",
     "shell.execute_reply": "2023-04-14T18:50:36.682725Z"
    },
    "papermill": {
     "duration": 12.948791,
     "end_time": "2023-04-14T18:50:36.687654",
     "exception": false,
     "start_time": "2023-04-14T18:50:23.738863",
     "status": "completed"
    },
    "tags": []
   },
   "outputs": [
    {
     "name": "stdout",
     "output_type": "stream",
     "text": [
      "Collecting rdflib\r\n",
      "  Downloading rdflib-6.3.2-py3-none-any.whl (528 kB)\r\n",
      "\u001b[2K     \u001b[90m━━━━━━━━━━━━━━━━━━━━━━━━━━━━━━━━━━━━━━\u001b[0m \u001b[32m528.1/528.1 kB\u001b[0m \u001b[31m12.9 MB/s\u001b[0m eta \u001b[36m0:00:00\u001b[0m\r\n",
      "\u001b[?25hRequirement already satisfied: pyparsing<4,>=2.1.0 in /opt/conda/lib/python3.7/site-packages (from rdflib) (3.0.9)\r\n",
      "Collecting isodate<0.7.0,>=0.6.0\r\n",
      "  Downloading isodate-0.6.1-py2.py3-none-any.whl (41 kB)\r\n",
      "\u001b[2K     \u001b[90m━━━━━━━━━━━━━━━━━━━━━━━━━━━━━━━━━━━━━━━━\u001b[0m \u001b[32m41.7/41.7 kB\u001b[0m \u001b[31m3.2 MB/s\u001b[0m eta \u001b[36m0:00:00\u001b[0m\r\n",
      "\u001b[?25hRequirement already satisfied: importlib-metadata<5.0.0,>=4.0.0 in /opt/conda/lib/python3.7/site-packages (from rdflib) (4.11.4)\r\n",
      "Requirement already satisfied: typing-extensions>=3.6.4 in /opt/conda/lib/python3.7/site-packages (from importlib-metadata<5.0.0,>=4.0.0->rdflib) (4.4.0)\r\n",
      "Requirement already satisfied: zipp>=0.5 in /opt/conda/lib/python3.7/site-packages (from importlib-metadata<5.0.0,>=4.0.0->rdflib) (3.11.0)\r\n",
      "Requirement already satisfied: six in /opt/conda/lib/python3.7/site-packages (from isodate<0.7.0,>=0.6.0->rdflib) (1.16.0)\r\n",
      "Installing collected packages: isodate, rdflib\r\n",
      "Successfully installed isodate-0.6.1 rdflib-6.3.2\r\n",
      "\u001b[33mWARNING: Running pip as the 'root' user can result in broken permissions and conflicting behaviour with the system package manager. It is recommended to use a virtual environment instead: https://pip.pypa.io/warnings/venv\u001b[0m\u001b[33m\r\n",
      "\u001b[0m"
     ]
    }
   ],
   "source": [
    "!pip install rdflib"
   ]
  },
  {
   "cell_type": "code",
   "execution_count": 2,
   "id": "675f8d9e",
   "metadata": {
    "_cell_guid": "b1076dfc-b9ad-4769-8c92-a6c4dae69d19",
    "_uuid": "8f2839f25d086af736a60e9eeb907d3b93b6e0e5",
    "execution": {
     "iopub.execute_input": "2023-04-14T18:50:36.698101Z",
     "iopub.status.busy": "2023-04-14T18:50:36.697650Z",
     "iopub.status.idle": "2023-04-14T18:50:37.205002Z",
     "shell.execute_reply": "2023-04-14T18:50:37.203609Z"
    },
    "papermill": {
     "duration": 0.516183,
     "end_time": "2023-04-14T18:50:37.208050",
     "exception": false,
     "start_time": "2023-04-14T18:50:36.691867",
     "status": "completed"
    },
    "tags": []
   },
   "outputs": [],
   "source": [
    "import rdflib\n",
    "from collections import deque\n",
    "\n",
    "\n",
    "class RDFGraph:\n",
    "    def __init__(self, urlList: str) -> None:\n",
    "        self.entities = set()\n",
    "        self.relations = set()\n",
    "        self.neighbours = dict()\n",
    "        for url in urlList:\n",
    "            graphVariable = rdflib.Graph()\n",
    "            resultGraph = graphVariable.parse(url)\n",
    "            for subjectItem, predicate, objectItem in resultGraph.triples((None, None, None)):\n",
    "                if type(objectItem) != rdflib.term.URIRef:\n",
    "                    continue\n",
    "                self.entities.add(subjectItem)\n",
    "                self.relations.add(predicate)\n",
    "                self.entities.add(objectItem)\n",
    "                existingNeighbours = self.neighbours.get(subjectItem, None)\n",
    "                neighbour = tuple([predicate, objectItem])\n",
    "                if existingNeighbours is None:\n",
    "                    self.neighbours[subjectItem] = set([neighbour])\n",
    "                else:\n",
    "                    self.neighbours[subjectItem].add(neighbour)\n",
    "\n",
    "    def _bfs(self, startNode, maxDepth) -> list:\n",
    "        visited = set()\n",
    "        sequences = []\n",
    "        for reverseSequence in self._bfs_recursive(startNode, visited, maxDepth):\n",
    "            sequences.append(list(reversed(reverseSequence)))\n",
    "        return sequences\n",
    "        \n",
    "    \n",
    "    def _bfs_recursive(self, startNode, visited, maxDepth) -> list:\n",
    "        visited.add(startNode)\n",
    "        neighbours = self.neighbours.get(startNode, None)\n",
    "        if maxDepth == 0 or neighbours is None:\n",
    "            return [[startNode]]\n",
    "        \n",
    "        sequences = []\n",
    "        for neighbour in neighbours:\n",
    "            neighbourRelation, neighbourNode = neighbour\n",
    "            if neighbourNode not in visited:\n",
    "                partialSequences = self._bfs_recursive(neighbourNode, visited, maxDepth - 1)\n",
    "                for partialSequence in partialSequences:\n",
    "                    sequences.append(partialSequence + [neighbourRelation, startNode])\n",
    "        return sequences\n",
    "\n",
    "    def generateSequences(self, maxDepth: int, entitiesCount: int) -> list:\n",
    "        sequences = []\n",
    "        for entity in self.entities:\n",
    "            sequenceEntity = self._bfs(entity, maxDepth)\n",
    "            sequences.extend(sequenceEntity)\n",
    "            entitiesCount -= 1\n",
    "            if entitiesCount == 0:\n",
    "                break\n",
    "        self.sequences = sequences\n",
    "        return sequences\n"
   ]
  },
  {
   "cell_type": "code",
   "execution_count": 3,
   "id": "27cf5b85",
   "metadata": {
    "execution": {
     "iopub.execute_input": "2023-04-14T18:50:37.218064Z",
     "iopub.status.busy": "2023-04-14T18:50:37.217632Z",
     "iopub.status.idle": "2023-04-14T18:51:46.274634Z",
     "shell.execute_reply": "2023-04-14T18:51:46.273371Z"
    },
    "papermill": {
     "duration": 69.065433,
     "end_time": "2023-04-14T18:51:46.277644",
     "exception": false,
     "start_time": "2023-04-14T18:50:37.212211",
     "status": "completed"
    },
    "tags": []
   },
   "outputs": [],
   "source": [
    "filePath = [\n",
    "    \"/kaggle/input/bgs-dataset/625KGeologyMap_all.nt\",\n",
    "    \"/kaggle/input/bgs-dataset/dataholdings.nt\",\n",
    "    \"/kaggle/input/bgs-dataset/earth-material-class.nt\",\n",
    "    \"/kaggle/input/bgs-dataset/geochronology.nt\",\n",
    "    \"/kaggle/input/bgs-dataset/lexicon-named-rock-unit.nt\"\n",
    "]\n",
    "graph = RDFGraph(filePath)"
   ]
  },
  {
   "cell_type": "code",
   "execution_count": 4,
   "id": "cc9a3a21",
   "metadata": {
    "execution": {
     "iopub.execute_input": "2023-04-14T18:51:46.287235Z",
     "iopub.status.busy": "2023-04-14T18:51:46.286826Z",
     "iopub.status.idle": "2023-04-14T18:53:30.916380Z",
     "shell.execute_reply": "2023-04-14T18:53:30.915178Z"
    },
    "papermill": {
     "duration": 104.637772,
     "end_time": "2023-04-14T18:53:30.919425",
     "exception": false,
     "start_time": "2023-04-14T18:51:46.281653",
     "status": "completed"
    },
    "tags": []
   },
   "outputs": [],
   "source": [
    "maxDepth = 5  # Depth of bfs search\n",
    "maxEntities = len(graph.entities)\n",
    "sequences = graph.generateSequences(maxDepth, maxEntities)"
   ]
  },
  {
   "cell_type": "code",
   "execution_count": 5,
   "id": "6d1acd59",
   "metadata": {
    "execution": {
     "iopub.execute_input": "2023-04-14T18:53:30.930017Z",
     "iopub.status.busy": "2023-04-14T18:53:30.929526Z",
     "iopub.status.idle": "2023-04-14T18:53:30.939575Z",
     "shell.execute_reply": "2023-04-14T18:53:30.938043Z"
    },
    "papermill": {
     "duration": 0.018592,
     "end_time": "2023-04-14T18:53:30.942252",
     "exception": false,
     "start_time": "2023-04-14T18:53:30.923660",
     "status": "completed"
    },
    "tags": []
   },
   "outputs": [
    {
     "name": "stdout",
     "output_type": "stream",
     "text": [
      "Total Entities :  44740\n",
      "Total Relations :  22\n",
      "Total paths :  6288246\n",
      "A random path\n",
      "http://data.bgs.ac.uk/id/625KGeologyMap/Unit/bgsn_digmap20111213000021047_625k\n",
      "http://data.bgs.ac.uk/ref/625KGeologyMap/hasLexicon\n",
      "http://data.bgs.ac.uk/id/Lexicon/NamedRockUnit/ARGY\n",
      "http://www.w3.org/2004/02/skos/core#broader\n",
      "http://data.bgs.ac.uk/id/Lexicon/NamedRockUnit/DALN\n",
      "http://www.w3.org/2004/02/skos/core#narrower\n",
      "http://data.bgs.ac.uk/id/Lexicon/NamedRockUnit/GRAM\n",
      "http://www.w3.org/2004/02/skos/core#narrower\n",
      "http://data.bgs.ac.uk/id/Lexicon/NamedRockUnit/GRGS\n",
      "http://www.w3.org/2004/02/skos/core#narrower\n",
      "http://data.bgs.ac.uk/id/Lexicon/NamedRockUnit/EILDE\n"
     ]
    }
   ],
   "source": [
    "import numpy as np\n",
    "np.random.seed(42)\n",
    "\n",
    "print(\"Total Entities : \", len(graph.entities))\n",
    "print(\"Total Relations : \", len(graph.relations))\n",
    "\n",
    "totalPaths = len(sequences)\n",
    "print(\"Total paths : \", totalPaths)\n",
    "print(\"A random path\")\n",
    "\n",
    "randomIndex = np.random.randint(totalPaths)\n",
    "for node in sequences[randomIndex]:\n",
    "    print(node)"
   ]
  },
  {
   "cell_type": "code",
   "execution_count": 6,
   "id": "f0455b25",
   "metadata": {
    "execution": {
     "iopub.execute_input": "2023-04-14T18:53:30.952765Z",
     "iopub.status.busy": "2023-04-14T18:53:30.951945Z",
     "iopub.status.idle": "2023-04-14T19:05:34.137813Z",
     "shell.execute_reply": "2023-04-14T19:05:34.136236Z"
    },
    "papermill": {
     "duration": 723.194677,
     "end_time": "2023-04-14T19:05:34.141103",
     "exception": false,
     "start_time": "2023-04-14T18:53:30.946426",
     "status": "completed"
    },
    "tags": []
   },
   "outputs": [],
   "source": [
    "from gensim.models import Word2Vec\n",
    "\n",
    "# Set the parameters for the Word2Vec model\n",
    "size = 100  # Dimensionality of the word vectors\n",
    "window = 5  # Context window size\n",
    "min_count = 1  # Minimum frequency of words to consider\n",
    "workers = 16  # Number of worker threads to use during training\n",
    "\n",
    "model = Word2Vec(\n",
    "    sequences, vector_size=size, window=window, min_count=min_count, workers=workers\n",
    ")"
   ]
  },
  {
   "cell_type": "code",
   "execution_count": 7,
   "id": "fd4bbac4",
   "metadata": {
    "execution": {
     "iopub.execute_input": "2023-04-14T19:05:34.151630Z",
     "iopub.status.busy": "2023-04-14T19:05:34.151174Z",
     "iopub.status.idle": "2023-04-14T19:05:34.422939Z",
     "shell.execute_reply": "2023-04-14T19:05:34.421508Z"
    },
    "papermill": {
     "duration": 0.280368,
     "end_time": "2023-04-14T19:05:34.425688",
     "exception": false,
     "start_time": "2023-04-14T19:05:34.145320",
     "status": "completed"
    },
    "tags": []
   },
   "outputs": [
    {
     "name": "stdout",
     "output_type": "stream",
     "text": [
      "Entities embedded :  44762\n"
     ]
    }
   ],
   "source": [
    "wordVectors = model.wv\n",
    "vocabulory = list(wordVectors.index_to_key)\n",
    "vocabulorySize = len(vocabulory)\n",
    "print(\"Entities embedded : \", vocabulorySize)\n",
    "wordVectors.save_word2vec_format('embeddings.bin', binary=True)"
   ]
  },
  {
   "cell_type": "code",
   "execution_count": 8,
   "id": "d986814a",
   "metadata": {
    "execution": {
     "iopub.execute_input": "2023-04-14T19:05:34.436695Z",
     "iopub.status.busy": "2023-04-14T19:05:34.435456Z",
     "iopub.status.idle": "2023-04-14T19:05:34.480046Z",
     "shell.execute_reply": "2023-04-14T19:05:34.478844Z"
    },
    "papermill": {
     "duration": 0.052476,
     "end_time": "2023-04-14T19:05:34.482482",
     "exception": false,
     "start_time": "2023-04-14T19:05:34.430006",
     "status": "completed"
    },
    "tags": []
   },
   "outputs": [
    {
     "data": {
      "text/plain": [
       "{rdflib.term.URIRef('http://data.bgs.ac.uk/ref/625KGeologyMap/hasEarthMaterialClass'),\n",
       " rdflib.term.URIRef('http://data.bgs.ac.uk/ref/625KGeologyMap/hasLexicon'),\n",
       " rdflib.term.URIRef('http://data.bgs.ac.uk/ref/625KGeologyMap/hasRank'),\n",
       " rdflib.term.URIRef('http://data.bgs.ac.uk/ref/Lexicon/hasBroaderPredominantAge'),\n",
       " rdflib.term.URIRef('http://data.bgs.ac.uk/ref/Lexicon/hasLateralEquivalent'),\n",
       " rdflib.term.URIRef('http://data.bgs.ac.uk/ref/Lexicon/hasObsoleteEquivalent'),\n",
       " rdflib.term.URIRef('http://data.bgs.ac.uk/ref/Lexicon/hasOldestAge'),\n",
       " rdflib.term.URIRef('http://data.bgs.ac.uk/ref/Lexicon/hasPredominantAge'),\n",
       " rdflib.term.URIRef('http://data.bgs.ac.uk/ref/Lexicon/hasRockUnitRank'),\n",
       " rdflib.term.URIRef('http://data.bgs.ac.uk/ref/Lexicon/hasYoungestAge'),\n",
       " rdflib.term.URIRef('http://data.bgs.ac.uk/ref/Lexicon/isObsoleteEquivalentOf'),\n",
       " rdflib.term.URIRef('http://purl.org/dc/terms/creator'),\n",
       " rdflib.term.URIRef('http://purl.org/dc/terms/publisher'),\n",
       " rdflib.term.URIRef('http://www.w3.org/1999/02/22-rdf-syntax-ns#type'),\n",
       " rdflib.term.URIRef('http://www.w3.org/2000/01/rdf-schema#isDefinedBy'),\n",
       " rdflib.term.URIRef('http://www.w3.org/2004/02/skos/core#broader'),\n",
       " rdflib.term.URIRef('http://www.w3.org/2004/02/skos/core#hasTopConcept'),\n",
       " rdflib.term.URIRef('http://www.w3.org/2004/02/skos/core#inScheme'),\n",
       " rdflib.term.URIRef('http://www.w3.org/2004/02/skos/core#member'),\n",
       " rdflib.term.URIRef('http://www.w3.org/2004/02/skos/core#narrower'),\n",
       " rdflib.term.URIRef('http://www.w3.org/2004/02/skos/core#topConceptOf'),\n",
       " rdflib.term.URIRef('http://xmlns.com/foaf/0.1/homepage')}"
      ]
     },
     "execution_count": 8,
     "metadata": {},
     "output_type": "execute_result"
    }
   ],
   "source": [
    "vocabulorySet = set(vocabulory)\n",
    "entitySet = set(graph.entities)\n",
    "vocabulorySet - entitySet"
   ]
  },
  {
   "cell_type": "code",
   "execution_count": 9,
   "id": "e59a518d",
   "metadata": {
    "execution": {
     "iopub.execute_input": "2023-04-14T19:05:34.493689Z",
     "iopub.status.busy": "2023-04-14T19:05:34.492573Z",
     "iopub.status.idle": "2023-04-14T19:05:34.501105Z",
     "shell.execute_reply": "2023-04-14T19:05:34.499604Z"
    },
    "papermill": {
     "duration": 0.017042,
     "end_time": "2023-04-14T19:05:34.503883",
     "exception": false,
     "start_time": "2023-04-14T19:05:34.486841",
     "status": "completed"
    },
    "tags": []
   },
   "outputs": [
    {
     "name": "stdout",
     "output_type": "stream",
     "text": [
      "http://data.bgs.ac.uk/id/EarthMaterialClass/RockName/MTFMUD\n",
      "[ 0.05051223 -0.00269511  0.05014386  0.05552666  0.03134386 -0.00833599\n",
      "  0.02676786  0.08093793  0.00064853 -0.05209844 -0.01720972 -0.01213085\n",
      "  0.02983971  0.02463203 -0.07036081  0.00903369 -0.0922478  -0.02551756\n",
      " -0.05268109 -0.04348169 -0.00510987  0.02686541 -0.00180825  0.02355583\n",
      " -0.01883297  0.0142932   0.04022423 -0.00457735 -0.03259301 -0.01344212\n",
      "  0.02388262 -0.02227396 -0.01604591 -0.01576144  0.04005769  0.05544152\n",
      " -0.00677864 -0.0499577  -0.13268031  0.01241753  0.04449821 -0.05538702\n",
      " -0.04407227  0.03115947  0.09876963  0.03627842  0.00419507  0.00235987\n",
      "  0.0238176   0.03689527 -0.00019717 -0.02697445 -0.05858924 -0.00171807\n",
      "  0.05674632  0.00892013 -0.06397377  0.01252981 -0.10085972 -0.03364418\n",
      "  0.03748882  0.03596101 -0.00332245 -0.02342508 -0.00198667  0.04544734\n",
      " -0.02647015  0.01009224  0.06952563  0.03690182  0.07049017  0.04660826\n",
      "  0.00770841  0.00265805 -0.00318021  0.00313425  0.04185511 -0.02334995\n",
      "  0.02054925 -0.00189366  0.0253711  -0.03948518 -0.06497147 -0.10121025\n",
      " -0.02486573 -0.04060071  0.04132676  0.01299645 -0.00190568  0.05365131\n",
      "  0.0843755   0.04227022  0.05363549  0.01521665  0.0320913   0.10047002\n",
      " -0.06474288 -0.02396045 -0.05659045 -0.02884944]\n"
     ]
    }
   ],
   "source": [
    "randomIndex = np.random.randint(vocabulorySize)\n",
    "entity = vocabulory[randomIndex]\n",
    "print(entity)\n",
    "print(wordVectors[entity])"
   ]
  },
  {
   "cell_type": "code",
   "execution_count": null,
   "id": "b7912b7f",
   "metadata": {
    "papermill": {
     "duration": 0.003984,
     "end_time": "2023-04-14T19:05:34.512165",
     "exception": false,
     "start_time": "2023-04-14T19:05:34.508181",
     "status": "completed"
    },
    "tags": []
   },
   "outputs": [],
   "source": []
  }
 ],
 "metadata": {
  "kernelspec": {
   "display_name": "Python 3",
   "language": "python",
   "name": "python3"
  },
  "language_info": {
   "codemirror_mode": {
    "name": "ipython",
    "version": 3
   },
   "file_extension": ".py",
   "mimetype": "text/x-python",
   "name": "python",
   "nbconvert_exporter": "python",
   "pygments_lexer": "ipython3",
   "version": "3.7.12"
  },
  "papermill": {
   "default_parameters": {},
   "duration": 923.979821,
   "end_time": "2023-04-14T19:05:37.239738",
   "environment_variables": {},
   "exception": null,
   "input_path": "__notebook__.ipynb",
   "output_path": "__notebook__.ipynb",
   "parameters": {},
   "start_time": "2023-04-14T18:50:13.259917",
   "version": "2.4.0"
  }
 },
 "nbformat": 4,
 "nbformat_minor": 5
}
